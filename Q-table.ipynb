{
 "cells": [
  {
   "cell_type": "code",
   "execution_count": 1,
   "metadata": {
    "ExecuteTime": {
     "end_time": "2016-06-06T00:01:05.522000",
     "start_time": "2016-06-06T00:01:05.134000"
    },
    "collapsed": false
   },
   "outputs": [],
   "source": [
    "import numpy as np\n",
    "import matplotlib.pyplot as plt\n",
    "%matplotlib inline"
   ]
  },
  {
   "cell_type": "code",
   "execution_count": 2,
   "metadata": {
    "ExecuteTime": {
     "end_time": "2016-06-06T00:01:06.272000",
     "start_time": "2016-06-06T00:01:06.038000"
    },
    "collapsed": false
   },
   "outputs": [
    {
     "data": {
      "image/png": "[encoded data removed]",
      "text/plain": [
       "<matplotlib.figure.Figure at 0x5b972f0>"
      ]
     },
     "metadata": {},
     "output_type": "display_data"
    }
   ],
   "source": [
    "from environment import MazeEnv\n",
    "mx = 30\n",
    "my = 30\n",
    "env = MazeEnv(mx, my)\n",
    "env.reset()\n",
    "env.render()"
   ]
  },
  {
   "cell_type": "code",
   "execution_count": 3,
   "metadata": {
    "ExecuteTime": {
     "end_time": "2016-06-06T00:01:09.247000",
     "start_time": "2016-06-06T00:01:09.242000"
    },
    "collapsed": false
   },
   "outputs": [],
   "source": [
    "Q = np.random.rand(mx * my, 4)  # dimensions: states, actions\n",
    "\n",
    "alpha = 0.3  # learning rate, i.e. which fraction of the Q values should be updated\n",
    "gamma = 0.9  # discount factor, i.e. to which extent the algorithm considers possible future rewards\n",
    "epsilon = 0.2  # probability to choose random action instead of best action\n",
    "\n",
    "def state_index(state):\n",
    "    return state[0] + mx * state[1]"
   ]
  },
  {
   "cell_type": "code",
   "execution_count": 4,
   "metadata": {
    "ExecuteTime": {
     "end_time": "2016-06-06T00:01:10.617000",
     "start_time": "2016-06-06T00:01:10.615000"
    },
    "collapsed": true
   },
   "outputs": [],
   "source": [
    "history = []"
   ]
  },
  {
   "cell_type": "code",
   "execution_count": 9,
   "metadata": {
    "ExecuteTime": {
     "end_time": "2016-06-06T00:01:57.832000",
     "start_time": "2016-06-06T00:01:57.091000"
    },
    "collapsed": false
   },
   "outputs": [],
   "source": [
    "verbose = False\n",
    "heatmap = np.zeros((mx, my))\n",
    "\n",
    "for epoch in range(200):    \n",
    "    state = env.reset()\n",
    "    done = False\n",
    "    \n",
    "    while not done:\n",
    "        if verbose: print 'State {} (index {}),'.format(state, state_index(state)),\n",
    "        heatmap[state] += 1\n",
    "        \n",
    "        if np.random.rand() <= epsilon:\n",
    "            action = np.random.randint(4)\n",
    "            if verbose: print 'choosing random action {} ({}),'.format(action, env.action_to_label[action]),\n",
    "        else:\n",
    "            action = np.argmax(Q[state_index(state)])\n",
    "            if verbose: print 'choosing best action {} ({}),'.format(action, env.action_to_label[action]),\n",
    "\n",
    "        new_state, reward, done, info = env.step(action)\n",
    "        if verbose: print 'reward {}'.format(reward)\n",
    "\n",
    "        Q[state_index(state), action] += alpha * (reward + gamma * np.max(Q[state_index(new_state)]) - Q[state_index(state), action])\n",
    "        state = new_state\n",
    "        \n",
    "    history.append(info['time'])\n",
    "    if verbose: print 'Finished in {} steps'.format(info['time'])\n",
    "    if verbose: print"
   ]
  },
  {
   "cell_type": "code",
   "execution_count": 10,
   "metadata": {
    "ExecuteTime": {
     "end_time": "2016-06-06T00:01:59.083000",
     "start_time": "2016-06-06T00:01:58.813000"
    },
    "collapsed": false
   },
   "outputs": [
    {
     "data": {
      "text/plain": [
       "(0, 10000)"
      ]
     },
     "execution_count": 10,
     "metadata": {},
     "output_type": "execute_result"
    },
    {
     "data": {
      "image/png": "[encoded data removed]",
      "text/plain": [
       "<matplotlib.figure.Figure at 0x809ce10>"
      ]
     },
     "metadata": {},
     "output_type": "display_data"
    }
   ],
   "source": [
    "plt.plot(history)\n",
    "plt.xlabel('Epoch')\n",
    "plt.ylabel('Time steps to solve maze')\n",
    "plt.ylim(0, 10000)"
   ]
  },
  {
   "cell_type": "code",
   "execution_count": 11,
   "metadata": {
    "ExecuteTime": {
     "end_time": "2016-06-06T00:02:02.027000",
     "start_time": "2016-06-06T00:02:01.781000"
    },
    "collapsed": false
   },
   "outputs": [
    {
     "data": {
      "text/plain": [
       "(-0.5, 29.5)"
      ]
     },
     "execution_count": 11,
     "metadata": {},
     "output_type": "execute_result"
    },
    {
     "data": {
      "image/png": "[encoded data removed]",
      "text/plain": [
       "<matplotlib.figure.Figure at 0x80aecd0>"
      ]
     },
     "metadata": {},
     "output_type": "display_data"
    }
   ],
   "source": [
    "plt.imshow(heatmap.T, interpolation='none', origin='lower')\n",
    "plt.plot(env.treasure[0], env.treasure[1], 'y*', mec='none', markersize=17)  # TODO: Maybe do not get treasure variable directly.\n",
    "plt.xlim(-0.5, mx - 0.5)\n",
    "plt.ylim(-0.5, my - 0.5)"
   ]
  },
  {
   "cell_type": "code",
   "execution_count": null,
   "metadata": {
    "ExecuteTime": {
     "end_time": "2016-06-05T23:57:37.419000",
     "start_time": "2016-06-05T23:57:36.998000"
    },
    "collapsed": false
   },
   "outputs": [],
   "source": [
    "plt.figure(figsize=(3, 30))\n",
    "plt.imshow(Q, interpolation='none')\n",
    "plt.xticks(env.action_to_label.keys(), env.action_to_label.values(), rotation='vertical')\n",
    "plt.colorbar()\n",
    "plt.ylabel('State')"
   ]
  },
  {
   "cell_type": "code",
   "execution_count": null,
   "metadata": {
    "ExecuteTime": {
     "end_time": "2016-06-05T23:58:30.678000",
     "start_time": "2016-06-05T23:58:30"
    },
    "collapsed": false
   },
   "outputs": [],
   "source": [
    "# Plot arrows for each direction, where the arrow width represents the Q value.\n",
    "env.reset()\n",
    "env.render()\n",
    "arrow_length = 0.2\n",
    "c = 'k'\n",
    "width_factor = 0.001 / np.max(Q)\n",
    "for x in range(mx):\n",
    "    for y in range(my):\n",
    "        plt.arrow(x, y, 0., arrow_length, ec=c, fc=c, width=width_factor*Q[state_index((x, y)), 0])  # up\n",
    "        plt.arrow(x, y, 0., -arrow_length, ec=c, fc=c, width=width_factor*Q[state_index((x, y)), 1])  # down\n",
    "        plt.arrow(x, y, -arrow_length, 0., ec=c, fc=c, width=width_factor*Q[state_index((x, y)), 2])  # left\n",
    "        plt.arrow(x, y, arrow_length, 0., ec=c, fc=c, width=width_factor*Q[state_index((x, y)), 3])  # right"
   ]
  },
  {
   "cell_type": "code",
   "execution_count": null,
   "metadata": {
    "ExecuteTime": {
     "end_time": "2016-06-06T00:00:04.625000",
     "start_time": "2016-06-06T00:00:03.346000"
    },
    "collapsed": false
   },
   "outputs": [],
   "source": [
    "# Plot arrow for the direction with the highest Q value.\n",
    "env.reset()\n",
    "env.render()\n",
    "l = 0.3\n",
    "c = 'k'\n",
    "w = 0.01\n",
    "for x in range(mx):\n",
    "    for y in range(my):\n",
    "        best_action = np.argmax(Q[state_index((x, y))])\n",
    "        if best_action == 0:            \n",
    "            plt.arrow(x, y-0.5*l, 0, l, ec=c, fc=c, width=w)  # up\n",
    "        elif best_action == 1:\n",
    "            plt.arrow(x, y+0.5*l, 0., -l, ec=c, fc=c, width=w)  # down\n",
    "        elif best_action == 2:\n",
    "            plt.arrow(x+0.5*l, y, -l, 0., ec=c, fc=c, width=w)  # left\n",
    "        elif best_action == 3:\n",
    "            plt.arrow(x-0.5*l, y, l, 0., ec=c, fc=c, width=w)  # right"
   ]
  },
  {
   "cell_type": "code",
   "execution_count": 12,
   "metadata": {
    "ExecuteTime": {
     "end_time": "2016-06-06T00:02:05.939000",
     "start_time": "2016-06-06T00:02:05.678000"
    },
    "collapsed": false
   },
   "outputs": [
    {
     "name": "stdout",
     "output_type": "stream",
     "text": [
      "Finished in 193 steps\n"
     ]
    },
    {
     "data": {
      "image/png": "[encoded data removed]",
      "text/plain": [
       "<matplotlib.figure.Figure at 0x81035b0>"
      ]
     },
     "metadata": {},
     "output_type": "display_data"
    }
   ],
   "source": [
    "# Single run.\n",
    "verbose = False\n",
    "\n",
    "state = env.reset()\n",
    "done = False\n",
    "\n",
    "while not done:\n",
    "    if verbose: print 'State {} (index {}),'.format(state, state_index(state)),\n",
    "\n",
    "    if np.random.rand() <= epsilon:\n",
    "        action = np.random.randint(4)\n",
    "        if verbose: print 'choosing random action {} ({}),'.format(action, env.action_to_label[action]),\n",
    "    else:\n",
    "        action = np.argmax(Q[state_index(state)])\n",
    "        if verbose: print 'choosing best action {} ({}),'.format(action, env.action_to_label[action]),\n",
    "\n",
    "    new_state, reward, done, info = env.step(action)\n",
    "    if verbose: print 'reward {}'.format(reward)\n",
    "    state = new_state\n",
    "    \n",
    "print 'Finished in {} steps'.format(info['time'])\n",
    "    \n",
    "env.render()"
   ]
  },
  {
   "cell_type": "code",
   "execution_count": null,
   "metadata": {
    "collapsed": true
   },
   "outputs": [],
   "source": []
  }
 ],
 "metadata": {
  "kernelspec": {
   "display_name": "Python 2",
   "language": "python",
   "name": "python2"
  },
  "language_info": {
   "codemirror_mode": {
    "name": "ipython",
    "version": 2
   },
   "file_extension": ".py",
   "mimetype": "text/x-python",
   "name": "python",
   "nbconvert_exporter": "python",
   "pygments_lexer": "ipython2",
   "version": "2.7.8"
  }
 },
 "nbformat": 4,
 "nbformat_minor": 0
}
